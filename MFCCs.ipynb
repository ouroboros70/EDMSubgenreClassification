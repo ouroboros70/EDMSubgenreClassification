{
 "cells": [
  {
   "cell_type": "markdown",
   "metadata": {
    "id": "8QJFRxI8-gmr"
   },
   "source": [
    "# MFCCs File Creation"
   ]
  },
  {
   "cell_type": "markdown",
   "metadata": {
    "id": "W8zZ7fbX-uBK"
   },
   "source": [
    "## Mount Drive"
   ]
  },
  {
   "cell_type": "code",
   "execution_count": 5,
   "metadata": {
    "colab": {
     "base_uri": "https://localhost:8080/"
    },
    "executionInfo": {
     "elapsed": 17508,
     "status": "ok",
     "timestamp": 1619389581702,
     "user": {
      "displayName": "Dan",
      "photoUrl": "",
      "userId": "04606279352388002008"
     },
     "user_tz": 300
    },
    "id": "Pw_KKH2-_FY8",
    "outputId": "c745e914-c09d-4b04-9428-5eab71024949"
   },
   "outputs": [],
   "source": [
    "# This is to mount your Google Drive to Colab to read and write the data\n",
    "# from google.colab import drive\n",
    "# drive.mount(\"/content/drive\")"
   ]
  },
  {
   "cell_type": "markdown",
   "metadata": {
    "id": "gHiWUhc7-1FK"
   },
   "source": [
    "## Import Libraries"
   ]
  },
  {
   "cell_type": "code",
   "execution_count": 1,
   "metadata": {
    "executionInfo": {
     "elapsed": 1028,
     "status": "ok",
     "timestamp": 1619389818607,
     "user": {
      "displayName": "Dan",
      "photoUrl": "",
      "userId": "04606279352388002008"
     },
     "user_tz": 300
    },
    "id": "6mopTMdZ_D1b"
   },
   "outputs": [],
   "source": [
    "import json\n",
    "import librosa\n",
    "import numpy as np\n",
    "import pandas as pd\n",
    "import os\n",
    "import warnings\n",
    "warnings.filterwarnings(\"ignore\")"
   ]
  },
  {
   "cell_type": "markdown",
   "metadata": {
    "id": "gyv6xzUF-7rH"
   },
   "source": [
    "## Extract Features from MP3s"
   ]
  },
  {
   "cell_type": "code",
   "execution_count": 4,
   "metadata": {
    "id": "q1kcCor9-B55"
   },
   "outputs": [],
   "source": [
    "import zipfile\n",
    "import os\n",
    "\n",
    "# Extracting MP3 files if not done already\n",
    "if not os.path.exists('./Datasets/MP3s/'):\n",
    "    with zipfile.ZipFile('./Datasets/MP3s.zip', 'r') as mp3s_zip:\n",
    "        mp3s_zip.extractall('./Datasets/')\n",
    "\n",
    "# PATH is the directory you want to write your data to.\n",
    "PATH = \"./Datasets/MFCCs/\"\n",
    "\n",
    "N_MFCC = 30\n",
    "NUM_SEGMENTS = 30\n",
    "TRACK_DURATION = 30\n",
    "SAMPLE_RATE = 22050\n",
    "SAMPLES_PER_TRACK = SAMPLE_RATE * TRACK_DURATION\n",
    "SAMPLES_PER_SEGMENT = int(SAMPLES_PER_TRACK / NUM_SEGMENTS)\n",
    "\n",
    "FILE_NAME = \"mfcc\" + str(N_MFCC) + \"_NS\" + str(NUM_SEGMENTS) + \"_D\" + str(TRACK_DURATION) + \"_RNN-LSTM.json\"\n",
    "# e.g. FILE_NAME = \"mfcc20_NS10_D30_RNN-LSTM.json\" \n",
    "\n",
    "# mfcc20 means 20 coefficients\n",
    "# NS10 means the audio track is cut into 10 segments\n",
    "# D30 means the overall audio track duration is 30 seconds (starting from the beginning of the MP3)\n",
    "\n",
    "# Dictionary to store labels and MFCCs\n",
    "data_json = {\n",
    "  \"labels\": [],\n",
    "  \"mfcc\": []\n",
    "}\n",
    "\n",
    "# Read the file to extract the genre\n",
    "# trackGenre.csv is the file with the ground truth and is read to get all the labels\n",
    "file_name = \"./Datasets/trackGenre.csv\"\n",
    "data = pd.read_csv(file_name)\n",
    "\n",
    "# This loops through all the MP3 files, computes the MFCCs for each file, and stores them in a .json object with the subgenre label as a string\n",
    "for file in os.listdir(\"./Datasets/MP3s\"):\n",
    "    song_name = f\"./Datasets/MP3s/{file}\"\n",
    "    y, sr = librosa.load(song_name, sr=SAMPLE_RATE, duration=TRACK_DURATION)\n",
    "\n",
    "    # Get the id of the track (this is the filename with the .mp3 removed)\n",
    "    index = np.where(data == int(file[: -4]))[0][0]\n",
    "    # Find the genre of the track\n",
    "    genre = data.iloc[index][1]\n",
    "\n",
    "    # Process all segments of the audio file\n",
    "    for d in range(NUM_SEGMENTS):\n",
    "        # Calculate start and finish sample for the current segment\n",
    "        start = SAMPLES_PER_SEGMENT * d\n",
    "        finish = start + SAMPLES_PER_SEGMENT\n",
    "\n",
    "        # Extract mfcc\n",
    "        mfcc = librosa.feature.mfcc(y[start:finish], sr=sr, n_mfcc=N_MFCC)\n",
    "        mfcc = mfcc.T\n",
    "\n",
    "        data_json[\"labels\"].append(genre)\n",
    "        data_json[\"mfcc\"].append(mfcc.tolist())\n",
    "\n",
    "with open(PATH + FILE_NAME, \"w\") as fp:\n",
    "    json.dump(data_json, fp, indent=4)"
   ]
  },
  {
   "cell_type": "code",
   "execution_count": null,
   "metadata": {},
   "outputs": [],
   "source": []
  }
 ],
 "metadata": {
  "colab": {
   "authorship_tag": "ABX9TyNqNcTMVMC7eEu9G1TKa5If",
   "collapsed_sections": [],
   "name": "MFCCs.ipynb",
   "provenance": [],
   "toc_visible": true
  },
  "kernelspec": {
   "display_name": "Python 3",
   "language": "python",
   "name": "python3"
  },
  "language_info": {
   "codemirror_mode": {
    "name": "ipython",
    "version": 3
   },
   "file_extension": ".py",
   "mimetype": "text/x-python",
   "name": "python",
   "nbconvert_exporter": "python",
   "pygments_lexer": "ipython3",
   "version": "3.8.0"
  }
 },
 "nbformat": 4,
 "nbformat_minor": 4
}
